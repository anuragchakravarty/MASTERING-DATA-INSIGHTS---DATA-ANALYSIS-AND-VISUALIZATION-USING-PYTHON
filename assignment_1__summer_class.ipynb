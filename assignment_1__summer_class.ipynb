{
 "cells": [
  {
   "cell_type": "markdown",
   "id": "beba4f6b",
   "metadata": {},
   "source": [
    "# Anurag Chakravarty\n",
    "## Reg. No. :- 12219329\n",
    "## MASTERING DATA INSIGHTS - DATA ANALYSIS AND VISUALIZATION USING PYTHON.\n",
    "## Lovely Professional University\n",
    "### CA-1"
   ]
  },
  {
   "cell_type": "markdown",
   "id": "d5e68651",
   "metadata": {},
   "source": [
    "## Q1."
   ]
  },
  {
   "cell_type": "markdown",
   "id": "ab0e554a",
   "metadata": {},
   "source": [
    "Create a base class Shape with methods area and perimeter. Then create two derived classes Rectangle and Circle. Override the methods to calculate the area and perimeter for each shape. Demonstrate polymorphism by creating a list of shapes and computing their area and perimeter."
   ]
  },
  {
   "cell_type": "markdown",
   "id": "7f9b6a2a",
   "metadata": {},
   "source": [
    "### Requirements:"
   ]
  },
  {
   "cell_type": "markdown",
   "id": "e5ecfcfe",
   "metadata": {},
   "source": [
    "1. Implement the Shape base class with methods area and perimeter.\n",
    "2. Implement the Rectangle and Circle classes with overridden methods.\n",
    "3. Create a list containing both Rectangle and Circle objects and demonstrate polymorphism by iterating through the list and printing the area and perimeter of each shape.\n"
   ]
  },
  {
   "cell_type": "code",
   "execution_count": 1,
   "id": "20494e63",
   "metadata": {},
   "outputs": [],
   "source": [
    "import math"
   ]
  },
  {
   "cell_type": "code",
   "execution_count": 2,
   "id": "081c73bc",
   "metadata": {},
   "outputs": [],
   "source": [
    "class Shape:\n",
    "    def area(self):\n",
    "        print(\"For Area\")\n",
    "\n",
    "    def perimeter(self):\n",
    "        print(\"For perimeter\")\n"
   ]
  },
  {
   "cell_type": "code",
   "execution_count": 3,
   "id": "d6d15c0f",
   "metadata": {},
   "outputs": [],
   "source": [
    "class Rectangle(Shape):\n",
    "    def __init__(self, width, height):\n",
    "        self.width = width\n",
    "        self.height = height\n",
    "\n",
    "    def area(self):\n",
    "        return self.width * self.height\n",
    "\n",
    "    def perimeter(self):\n",
    "        return 2 * (self.width + self.height)"
   ]
  },
  {
   "cell_type": "code",
   "execution_count": 4,
   "id": "68fc4f76",
   "metadata": {},
   "outputs": [],
   "source": [
    "class Circle(Shape):\n",
    "    def __init__(self, radius):\n",
    "        self.radius = radius\n",
    "\n",
    "    def area(self):\n",
    "        return math.pi *( self.radius * self.radius)\n",
    "\n",
    "    def perimeter(self):\n",
    "        return 2 * math.pi * self.radius"
   ]
  },
  {
   "cell_type": "code",
   "execution_count": 5,
   "id": "734a83da",
   "metadata": {},
   "outputs": [],
   "source": [
    "shapes = [Rectangle(5, 10), Rectangle(3, 7), Circle(7), Circle(6)]"
   ]
  },
  {
   "cell_type": "code",
   "execution_count": 6,
   "id": "c8451063",
   "metadata": {},
   "outputs": [
    {
     "name": "stdout",
     "output_type": "stream",
     "text": [
      "Rectangle - Width: 5, Height: 10\n",
      "Area: 50.00, Perimeter: 30.00\n",
      "\n",
      "Rectangle - Width: 3, Height: 7\n",
      "Area: 21.00, Perimeter: 20.00\n",
      "\n",
      "Circle - Radius: 7\n",
      "Area: 153.94, Perimeter: 43.98\n",
      "\n",
      "Circle - Radius: 6\n",
      "Area: 113.10, Perimeter: 37.70\n",
      "\n"
     ]
    }
   ],
   "source": [
    "for shape in shapes:\n",
    "    if isinstance(shape, Rectangle):\n",
    "        print(f\"Rectangle - Width: {shape.width}, Height: {shape.height}\")\n",
    "    elif isinstance(shape, Circle):\n",
    "        print(f\"Circle - Radius: {shape.radius}\")\n",
    "    print(f\"Area: {shape.area():.2f}, Perimeter: {shape.perimeter():.2f}\\n\")"
   ]
  },
  {
   "cell_type": "markdown",
   "id": "79f52240",
   "metadata": {},
   "source": [
    "## Q2. "
   ]
  },
  {
   "cell_type": "markdown",
   "id": "b9ae38a6",
   "metadata": {},
   "source": [
    "You are given a list of tuples where each tuple contains the name of a student and their scores in three subjects. Implement a function rank_students to calculate the total score for each student, sort the students based on their total score in descending order, and return a ranked list."
   ]
  },
  {
   "cell_type": "markdown",
   "id": "7fdfd323",
   "metadata": {},
   "source": [
    "### Requirements:"
   ]
  },
  {
   "cell_type": "markdown",
   "id": "580de897",
   "metadata": {},
   "source": [
    "1. Define the list of tuples with at least 5 students.\n",
    "2. Implement the rank_students function.\n",
    "3. Sort the students based on their total score.\n",
    "4. Print the ranked list.\n"
   ]
  },
  {
   "cell_type": "code",
   "execution_count": 7,
   "id": "3f4086a9",
   "metadata": {},
   "outputs": [],
   "source": [
    "def rank_students(Scores):\n",
    "    students = [(name, sum(scores)) for name, *scores in Scores]\n",
    "    students.sort(key=lambda x: x[1], reverse=True)\n",
    "    return students"
   ]
  },
  {
   "cell_type": "code",
   "execution_count": 8,
   "id": "3c4f6cd5",
   "metadata": {},
   "outputs": [],
   "source": [
    "def show(students):\n",
    "    rank_num = 1\n",
    "    for name, total_score in students:\n",
    "        print(f\"{rank_num}. {name}: {total_score}\")\n",
    "        rank_num += 1"
   ]
  },
  {
   "cell_type": "code",
   "execution_count": 9,
   "id": "90935fa9",
   "metadata": {},
   "outputs": [],
   "source": [
    "Scores = [('Anurag', 95, 90, 92), ('Akshat', 79, 82, 75), ('Ayush', 85, 95, 88), ('Jay', 77, 80, 85), ('Rohit', 92, 88, 95)]\n",
    "students = rank_students(Scores)\n"
   ]
  },
  {
   "cell_type": "code",
   "execution_count": 10,
   "id": "bdf25567",
   "metadata": {},
   "outputs": [
    {
     "name": "stdout",
     "output_type": "stream",
     "text": [
      "Ranked List of Students:\n",
      "1. Anurag: 277\n",
      "2. Rohit: 275\n",
      "3. Ayush: 268\n",
      "4. Jay: 242\n",
      "5. Akshat: 236\n"
     ]
    }
   ],
   "source": [
    "print(\"Ranked List of Students:\")\n",
    "show(students)"
   ]
  },
  {
   "cell_type": "markdown",
   "id": "30e34a0d",
   "metadata": {},
   "source": [
    "## Q3."
   ]
  },
  {
   "cell_type": "markdown",
   "id": "d815be6b",
   "metadata": {},
   "source": [
    "Create a class Employee with the following specifications: \n",
    "\n",
    "• Attributes: name, employee_id, and salary.\n",
    "\n",
    "• Methods:\n",
    "\n",
    "    __init__ to initialize the attributes.\n",
    "    display_employee_info to print the employee details.\n",
    "    give_raise to increase the salary by a given percentage.\n"
   ]
  },
  {
   "cell_type": "markdown",
   "id": "808199aa",
   "metadata": {},
   "source": [
    "### Requirements:"
   ]
  },
  {
   "cell_type": "markdown",
   "id": "83215965",
   "metadata": {},
   "source": [
    "1. Create an Employee object with name \"Alice\", employee_id \"E123\", and salary 50000.\n",
    "2. Display the employee information.\n",
    "3. Give a 10% raise to the employee and display the updated information.\n"
   ]
  },
  {
   "cell_type": "code",
   "execution_count": 11,
   "id": "bc17ec00",
   "metadata": {},
   "outputs": [],
   "source": [
    "class Employee:\n",
    "    def __init__(self, name, employee_id, salary):\n",
    "        self.name = name\n",
    "        self.employee_id = employee_id\n",
    "        self.salary = salary\n",
    "\n",
    "    def employee_info(self):\n",
    "        print(f\"Name: {self.name}\")\n",
    "        print(f\"Employee ID: {self.employee_id}\")\n",
    "        print(f\"Salary: ${self.salary:.2f}\")\n",
    "\n",
    "    def Raise(self, percentage):\n",
    "        self.salary *= (1 + percentage / 100)"
   ]
  },
  {
   "cell_type": "code",
   "execution_count": 12,
   "id": "ed4ae8cd",
   "metadata": {},
   "outputs": [],
   "source": [
    "alice = Employee(\"Alice\", \"E123\", 50000)"
   ]
  },
  {
   "cell_type": "code",
   "execution_count": 13,
   "id": "a0c7e758",
   "metadata": {},
   "outputs": [
    {
     "name": "stdout",
     "output_type": "stream",
     "text": [
      "Initial Employee Information:\n",
      "Name: Alice\n",
      "Employee ID: E123\n",
      "Salary: $50000.00\n",
      "\n",
      "Updated Employee Information after 10% raise :\n",
      "Name: Alice\n",
      "Employee ID: E123\n",
      "Salary: $55000.00\n"
     ]
    }
   ],
   "source": [
    "print(\"Initial Employee Information:\")\n",
    "alice.employee_info()\n",
    "\n",
    "alice.Raise(10)\n",
    "\n",
    "print(\"\\nUpdated Employee Information after 10% raise :\")\n",
    "alice.employee_info()"
   ]
  },
  {
   "cell_type": "markdown",
   "id": "0da440cf",
   "metadata": {},
   "source": [
    "## Q4."
   ]
  },
  {
   "cell_type": "markdown",
   "id": "e060b712",
   "metadata": {},
   "source": [
    "Write a Python calculator program that incorporates fundamental concepts like user input handling, arithmetic operations, check invalid inputs, and a loop structure to allow continuous calculations until the user chooses to exit. Make it more interactive and use maths library for scientific calculations."
   ]
  },
  {
   "cell_type": "code",
   "execution_count": 14,
   "id": "1d18c57f",
   "metadata": {},
   "outputs": [],
   "source": [
    "import math"
   ]
  },
  {
   "cell_type": "code",
   "execution_count": 15,
   "id": "23886536",
   "metadata": {},
   "outputs": [
    {
     "name": "stdout",
     "output_type": "stream",
     "text": [
      "Welcome to the Calculator Program!\n",
      "----------------------------------\n",
      "\n",
      "Choose an operation:\n",
      "1. Basic Arithmetic Operations\n",
      "2. Scientific Calculations\n",
      "3. Exit\n",
      "Enter your choice (1/2/3): 1\n",
      "\n",
      "Basic Arithmetic Operations:\n",
      "1. Addition\n",
      "2. Subtraction\n",
      "3. Multiplication\n",
      "4. Division\n",
      "Enter your choice (1/2/3/4): 4\n",
      "Enter the first number: 44\n",
      "Enter the second number: 0\n",
      "Zero Division error!\n",
      "\n",
      "Choose an operation:\n",
      "1. Basic Arithmetic Operations\n",
      "2. Scientific Calculations\n",
      "3. Exit\n",
      "Enter your choice (1/2/3): 2\n",
      "\n",
      "Scientific Calculations:\n",
      "1. Sin\n",
      "2. Cos\n",
      "3. Tan\n",
      "4. Square Root\n",
      "5. Exponential\n",
      "6. Log\n",
      "Enter your choice (1/2/3/4/5/6): 5\n",
      "Enter the number: 9\n",
      "The result is: exp(9.0) = 8103.08\n",
      "\n",
      "Choose an operation:\n",
      "1. Basic Arithmetic Operations\n",
      "2. Scientific Calculations\n",
      "3. Exit\n",
      "Enter your choice (1/2/3): 3\n",
      "Exiting the Calculator Program. Goodbye!\n"
     ]
    }
   ],
   "source": [
    "def calculator():\n",
    "    message = \"Welcome to the Calculator Program!\"\n",
    "    print(message)\n",
    "    print('-' * len(message))\n",
    "\n",
    "    while True:\n",
    "        print(\"\\nChoose an operation:\\n1. Basic Arithmetic Operations\\n2. Scientific Calculations\\n3. Exit\")\n",
    "        \n",
    "        choice = input(\"Enter your choice (1/2/3): \")\n",
    "\n",
    "        if choice == \"1\":\n",
    "            print(\"\\nBasic Arithmetic Operations:\\n1. Addition\\n2. Subtraction\\n3. Multiplication\\n4. Division\")\n",
    "\n",
    "            op_choice = input(\"Enter your choice (1/2/3/4): \")\n",
    "\n",
    "            num1 = float(input(\"Enter the first number: \"))\n",
    "            num2 = float(input(\"Enter the second number: \"))\n",
    "\n",
    "            if op_choice == \"1\":\n",
    "                result = num1 + num2\n",
    "                print(f\"The result is: {num1} + {num2} = {result:.2f}\")\n",
    "            elif op_choice == \"2\":\n",
    "                result = num1 - num2\n",
    "                print(f\"The result is: {num1} - {num2} = {result:.2f}\")\n",
    "            elif op_choice == \"3\":\n",
    "                result = num1 * num2\n",
    "                print(f\"The result is: {num1} * {num2} = {result:.2f}\")\n",
    "            elif op_choice == \"4\":\n",
    "                if num2 != 0:\n",
    "                    result = num1 / num2\n",
    "                    print(f\"The result is: {num1} / {num2} = {result:.2f}\")\n",
    "                else:\n",
    "                    print(\"Zero Division error!\")\n",
    "\n",
    "        elif choice == \"2\":\n",
    "            print(\"\\nScientific Calculations:\\n1. Sin\\n2. Cos\\n3. Tan\\n4. Square Root\\n5. Exponential\\n6. Log\")\n",
    "\n",
    "            sc_choice = input(\"Enter your choice (1/2/3/4/5/6): \")\n",
    "\n",
    "            num = float(input(\"Enter the number: \"))\n",
    "\n",
    "            if sc_choice == \"1\":\n",
    "                result = math.sin(math.radians(num))\n",
    "                print(f\"The result is: sin({num}) = {result:.2f}\")\n",
    "            elif sc_choice == \"2\":\n",
    "                result = math.cos(math.radians(num))\n",
    "                print(f\"The result is: cos({num}) = {result:.2f}\")\n",
    "            elif sc_choice == \"3\":\n",
    "                result = math.tan(math.radians(num))\n",
    "                print(f\"The result is: tan({num}) = {result:.2f}\")\n",
    "            elif sc_choice == \"4\":\n",
    "                result = math.sqrt(num)\n",
    "                print(f\"The result is: sqrt({num}) = {result:.2f}\")\n",
    "            elif sc_choice == \"5\":\n",
    "                result = math.exp(num)\n",
    "                print(f\"The result is: exp({num}) = {result:.2f}\")\n",
    "            elif sc_choice == \"6\":\n",
    "                result = math.log(num)\n",
    "                print(f\"The result is: log({num}) = {result:.2f}\")\n",
    "\n",
    "        elif choice == \"3\":\n",
    "            print(\"Exiting the Calculator Program. Goodbye!\")\n",
    "            break\n",
    "\n",
    "        else:\n",
    "            print(\"Invalid choice. Please try again!\")\n",
    "\n",
    "if __name__ == \"__main__\":\n",
    "    calculator()"
   ]
  },
  {
   "cell_type": "markdown",
   "id": "f9ea0533",
   "metadata": {},
   "source": [
    "### Thankyou"
   ]
  }
 ],
 "metadata": {
  "kernelspec": {
   "display_name": "Python 3 (ipykernel)",
   "language": "python",
   "name": "python3"
  },
  "language_info": {
   "codemirror_mode": {
    "name": "ipython",
    "version": 3
   },
   "file_extension": ".py",
   "mimetype": "text/x-python",
   "name": "python",
   "nbconvert_exporter": "python",
   "pygments_lexer": "ipython3",
   "version": "3.11.5"
  }
 },
 "nbformat": 4,
 "nbformat_minor": 5
}
