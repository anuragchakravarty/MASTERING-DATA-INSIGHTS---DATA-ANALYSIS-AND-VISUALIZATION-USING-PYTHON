{
 "cells": [
  {
   "cell_type": "markdown",
   "id": "fcf89f9d",
   "metadata": {},
   "source": [
    "# Anurag Chakravarty\n",
    "## Reg. No. :- 12219329\n",
    "## MASTERING DATA INSIGHTS - DATA ANALYSIS AND VISUALIZATION USING PYTHON.\n",
    "## Lovely Professional University\n",
    "### CA-3"
   ]
  },
  {
   "cell_type": "markdown",
   "id": "2ea53b21",
   "metadata": {},
   "source": [
    "## Q1."
   ]
  },
  {
   "cell_type": "markdown",
   "id": "421f541b",
   "metadata": {},
   "source": [
    "#### Analyzing Sales Data: \n",
    "Load sales data from a CSV file into a Pandas DataFrame, calculate total revenue for each product, find the product with highest total revenue, and export results to a new CSV file."
   ]
  },
  {
   "cell_type": "code",
   "execution_count": 1,
   "id": "60860d4e",
   "metadata": {},
   "outputs": [],
   "source": [
    "import pandas as pd"
   ]
  },
  {
   "cell_type": "code",
   "execution_count": 2,
   "id": "f5f63282",
   "metadata": {},
   "outputs": [
    {
     "data": {
      "text/html": [
       "<div>\n",
       "<style scoped>\n",
       "    .dataframe tbody tr th:only-of-type {\n",
       "        vertical-align: middle;\n",
       "    }\n",
       "\n",
       "    .dataframe tbody tr th {\n",
       "        vertical-align: top;\n",
       "    }\n",
       "\n",
       "    .dataframe thead th {\n",
       "        text-align: right;\n",
       "    }\n",
       "</style>\n",
       "<table border=\"1\" class=\"dataframe\">\n",
       "  <thead>\n",
       "    <tr style=\"text-align: right;\">\n",
       "      <th></th>\n",
       "      <th>Invoice ID</th>\n",
       "      <th>Branch</th>\n",
       "      <th>City</th>\n",
       "      <th>Customer type</th>\n",
       "      <th>Gender</th>\n",
       "      <th>Product line</th>\n",
       "      <th>Unit price</th>\n",
       "      <th>Quantity</th>\n",
       "      <th>Tax 5%</th>\n",
       "      <th>Total</th>\n",
       "      <th>Date</th>\n",
       "      <th>Time</th>\n",
       "      <th>Payment</th>\n",
       "      <th>cogs</th>\n",
       "      <th>gross margin percentage</th>\n",
       "      <th>gross income</th>\n",
       "      <th>Rating</th>\n",
       "    </tr>\n",
       "  </thead>\n",
       "  <tbody>\n",
       "    <tr>\n",
       "      <th>0</th>\n",
       "      <td>750-67-8428</td>\n",
       "      <td>A</td>\n",
       "      <td>Yangon</td>\n",
       "      <td>Member</td>\n",
       "      <td>Female</td>\n",
       "      <td>Health and beauty</td>\n",
       "      <td>74.69</td>\n",
       "      <td>7</td>\n",
       "      <td>26.1415</td>\n",
       "      <td>548.9715</td>\n",
       "      <td>1/5/2019</td>\n",
       "      <td>13:08</td>\n",
       "      <td>Ewallet</td>\n",
       "      <td>522.83</td>\n",
       "      <td>4.761905</td>\n",
       "      <td>26.1415</td>\n",
       "      <td>9.1</td>\n",
       "    </tr>\n",
       "    <tr>\n",
       "      <th>1</th>\n",
       "      <td>226-31-3081</td>\n",
       "      <td>C</td>\n",
       "      <td>Naypyitaw</td>\n",
       "      <td>Normal</td>\n",
       "      <td>Female</td>\n",
       "      <td>Electronic accessories</td>\n",
       "      <td>15.28</td>\n",
       "      <td>5</td>\n",
       "      <td>3.8200</td>\n",
       "      <td>80.2200</td>\n",
       "      <td>3/8/2019</td>\n",
       "      <td>10:29</td>\n",
       "      <td>Cash</td>\n",
       "      <td>76.40</td>\n",
       "      <td>4.761905</td>\n",
       "      <td>3.8200</td>\n",
       "      <td>9.6</td>\n",
       "    </tr>\n",
       "    <tr>\n",
       "      <th>2</th>\n",
       "      <td>631-41-3108</td>\n",
       "      <td>A</td>\n",
       "      <td>Yangon</td>\n",
       "      <td>Normal</td>\n",
       "      <td>Male</td>\n",
       "      <td>Home and lifestyle</td>\n",
       "      <td>46.33</td>\n",
       "      <td>7</td>\n",
       "      <td>16.2155</td>\n",
       "      <td>340.5255</td>\n",
       "      <td>3/3/2019</td>\n",
       "      <td>13:23</td>\n",
       "      <td>Credit card</td>\n",
       "      <td>324.31</td>\n",
       "      <td>4.761905</td>\n",
       "      <td>16.2155</td>\n",
       "      <td>7.4</td>\n",
       "    </tr>\n",
       "    <tr>\n",
       "      <th>3</th>\n",
       "      <td>123-19-1176</td>\n",
       "      <td>A</td>\n",
       "      <td>Yangon</td>\n",
       "      <td>Member</td>\n",
       "      <td>Male</td>\n",
       "      <td>Health and beauty</td>\n",
       "      <td>58.22</td>\n",
       "      <td>8</td>\n",
       "      <td>23.2880</td>\n",
       "      <td>489.0480</td>\n",
       "      <td>1/27/2019</td>\n",
       "      <td>20:33</td>\n",
       "      <td>Ewallet</td>\n",
       "      <td>465.76</td>\n",
       "      <td>4.761905</td>\n",
       "      <td>23.2880</td>\n",
       "      <td>8.4</td>\n",
       "    </tr>\n",
       "    <tr>\n",
       "      <th>4</th>\n",
       "      <td>373-73-7910</td>\n",
       "      <td>A</td>\n",
       "      <td>Yangon</td>\n",
       "      <td>Normal</td>\n",
       "      <td>Male</td>\n",
       "      <td>Sports and travel</td>\n",
       "      <td>86.31</td>\n",
       "      <td>7</td>\n",
       "      <td>30.2085</td>\n",
       "      <td>634.3785</td>\n",
       "      <td>2/8/2019</td>\n",
       "      <td>10:37</td>\n",
       "      <td>Ewallet</td>\n",
       "      <td>604.17</td>\n",
       "      <td>4.761905</td>\n",
       "      <td>30.2085</td>\n",
       "      <td>5.3</td>\n",
       "    </tr>\n",
       "  </tbody>\n",
       "</table>\n",
       "</div>"
      ],
      "text/plain": [
       "    Invoice ID Branch       City Customer type  Gender  \\\n",
       "0  750-67-8428      A     Yangon        Member  Female   \n",
       "1  226-31-3081      C  Naypyitaw        Normal  Female   \n",
       "2  631-41-3108      A     Yangon        Normal    Male   \n",
       "3  123-19-1176      A     Yangon        Member    Male   \n",
       "4  373-73-7910      A     Yangon        Normal    Male   \n",
       "\n",
       "             Product line  Unit price  Quantity   Tax 5%     Total       Date  \\\n",
       "0       Health and beauty       74.69         7  26.1415  548.9715   1/5/2019   \n",
       "1  Electronic accessories       15.28         5   3.8200   80.2200   3/8/2019   \n",
       "2      Home and lifestyle       46.33         7  16.2155  340.5255   3/3/2019   \n",
       "3       Health and beauty       58.22         8  23.2880  489.0480  1/27/2019   \n",
       "4       Sports and travel       86.31         7  30.2085  634.3785   2/8/2019   \n",
       "\n",
       "    Time      Payment    cogs  gross margin percentage  gross income  Rating  \n",
       "0  13:08      Ewallet  522.83                 4.761905       26.1415     9.1  \n",
       "1  10:29         Cash   76.40                 4.761905        3.8200     9.6  \n",
       "2  13:23  Credit card  324.31                 4.761905       16.2155     7.4  \n",
       "3  20:33      Ewallet  465.76                 4.761905       23.2880     8.4  \n",
       "4  10:37      Ewallet  604.17                 4.761905       30.2085     5.3  "
      ]
     },
     "execution_count": 2,
     "metadata": {},
     "output_type": "execute_result"
    }
   ],
   "source": [
    "# Loading sales data into a Pandas DataFrame\n",
    "\n",
    "df = pd.read_csv('D:\\\\Summer class\\\\Project\\\\Assignment 3\\\\supermarket_sales.csv', encoding='latin1')\n",
    "df.head()"
   ]
  },
  {
   "cell_type": "code",
   "execution_count": 3,
   "id": "b739445a",
   "metadata": {},
   "outputs": [],
   "source": [
    "# Total revenue for each product\n",
    "\n",
    "df['Revenue'] = df['Quantity'] * df['Unit price']"
   ]
  },
  {
   "cell_type": "code",
   "execution_count": 4,
   "id": "6b2b77a3",
   "metadata": {},
   "outputs": [
    {
     "data": {
      "text/html": [
       "<div>\n",
       "<style scoped>\n",
       "    .dataframe tbody tr th:only-of-type {\n",
       "        vertical-align: middle;\n",
       "    }\n",
       "\n",
       "    .dataframe tbody tr th {\n",
       "        vertical-align: top;\n",
       "    }\n",
       "\n",
       "    .dataframe thead th {\n",
       "        text-align: right;\n",
       "    }\n",
       "</style>\n",
       "<table border=\"1\" class=\"dataframe\">\n",
       "  <thead>\n",
       "    <tr style=\"text-align: right;\">\n",
       "      <th></th>\n",
       "      <th>Product line</th>\n",
       "      <th>Revenue</th>\n",
       "    </tr>\n",
       "  </thead>\n",
       "  <tbody>\n",
       "    <tr>\n",
       "      <th>0</th>\n",
       "      <td>Electronic accessories</td>\n",
       "      <td>51750.03</td>\n",
       "    </tr>\n",
       "    <tr>\n",
       "      <th>1</th>\n",
       "      <td>Fashion accessories</td>\n",
       "      <td>51719.90</td>\n",
       "    </tr>\n",
       "    <tr>\n",
       "      <th>2</th>\n",
       "      <td>Food and beverages</td>\n",
       "      <td>53471.28</td>\n",
       "    </tr>\n",
       "    <tr>\n",
       "      <th>3</th>\n",
       "      <td>Health and beauty</td>\n",
       "      <td>46851.18</td>\n",
       "    </tr>\n",
       "    <tr>\n",
       "      <th>4</th>\n",
       "      <td>Home and lifestyle</td>\n",
       "      <td>51297.06</td>\n",
       "    </tr>\n",
       "    <tr>\n",
       "      <th>5</th>\n",
       "      <td>Sports and travel</td>\n",
       "      <td>52497.93</td>\n",
       "    </tr>\n",
       "  </tbody>\n",
       "</table>\n",
       "</div>"
      ],
      "text/plain": [
       "             Product line   Revenue\n",
       "0  Electronic accessories  51750.03\n",
       "1     Fashion accessories  51719.90\n",
       "2      Food and beverages  53471.28\n",
       "3       Health and beauty  46851.18\n",
       "4      Home and lifestyle  51297.06\n",
       "5       Sports and travel  52497.93"
      ]
     },
     "execution_count": 4,
     "metadata": {},
     "output_type": "execute_result"
    }
   ],
   "source": [
    "total_revenue = df.groupby('Product line')['Revenue'].sum().reset_index()\n",
    "total_revenue"
   ]
  },
  {
   "cell_type": "code",
   "execution_count": 5,
   "id": "168de48a",
   "metadata": {},
   "outputs": [],
   "source": [
    "# Product with highest total revenue\n",
    " \n",
    "highest_revenue = total_revenue.loc[total_revenue['Revenue'].idxmax()]"
   ]
  },
  {
   "cell_type": "code",
   "execution_count": 6,
   "id": "f1ba3035",
   "metadata": {},
   "outputs": [
    {
     "name": "stdout",
     "output_type": "stream",
     "text": [
      "Product with highest total revenue:\n",
      "Product line    Food and beverages\n",
      "Revenue                   53471.28\n",
      "Name: 2, dtype: object\n"
     ]
    }
   ],
   "source": [
    "print(f\"Product with highest total revenue:\\n{highest_revenue}\")"
   ]
  },
  {
   "cell_type": "code",
   "execution_count": 7,
   "id": "37360957",
   "metadata": {},
   "outputs": [],
   "source": [
    "# Exporting results to a new CSV file.\n",
    "\n",
    "result = 'D:\\\\Summer class\\\\Project\\\\Assignment 3\\\\total_revenue.csv'\n",
    "total_revenue.to_csv(result, index=False)"
   ]
  },
  {
   "cell_type": "code",
   "execution_count": 8,
   "id": "51cf3680",
   "metadata": {},
   "outputs": [
    {
     "name": "stdout",
     "output_type": "stream",
     "text": [
      "Results exported to D:\\Summer class\\Project\\Assignment 3\\total_revenue.csv\n"
     ]
    }
   ],
   "source": [
    "print(f\"Results exported to {result}\")"
   ]
  },
  {
   "cell_type": "markdown",
   "id": "3e055bd8",
   "metadata": {},
   "source": [
    "## Q2."
   ]
  },
  {
   "cell_type": "markdown",
   "id": "d996b5ec",
   "metadata": {},
   "source": [
    "#### Weather Data Analysis:\n",
    "Load weather data stored in a NumPy array, calculate mean temperature for each city across all years, find city with highest average temperature, create new array with only that city's data, and convert temperatures from Celsius to Fahrenheit"
   ]
  },
  {
   "cell_type": "code",
   "execution_count": 9,
   "id": "11ae8dd0",
   "metadata": {},
   "outputs": [],
   "source": [
    "import numpy as np"
   ]
  },
  {
   "cell_type": "code",
   "execution_count": 10,
   "id": "79e0fd4e",
   "metadata": {},
   "outputs": [
    {
     "name": "stdout",
     "output_type": "stream",
     "text": [
      "Loaded Weather_data array:\n",
      "\n",
      "[('Mumbai', 39.87, 2020) ('Mumbai', 38.72, 2021) ('Mumbai', 31.2 , 2022)\n",
      " ('Mumbai', 34.23, 2023) ('Mumbai', 32.59, 2024) ('Delhi', 37.41, 2020)\n",
      " ('Delhi', 27.36, 2021) ('Delhi', 27.12, 2022) ('Delhi', 26.03, 2023)\n",
      " ('Delhi', 35.9 , 2024) ('Bangalore', 37.03, 2020)\n",
      " ('Bangalore', 37.88, 2021) ('Bangalore', 34.29, 2022)\n",
      " ('Bangalore', 30.75, 2023) ('Bangalore', 36.14, 2024)\n",
      " ('Chennai', 32.6 , 2020) ('Chennai', 35.53, 2021)\n",
      " ('Chennai', 39.04, 2022) ('Chennai', 25.43, 2023)\n",
      " ('Chennai', 29.32, 2024) ('Kolkata', 39.54, 2020)\n",
      " ('Kolkata', 35.75, 2021) ('Kolkata', 29.09, 2022)\n",
      " ('Kolkata', 33.65, 2023) ('Kolkata', 34.42, 2024)]\n"
     ]
    }
   ],
   "source": [
    "weather_data = np.array([\n",
    "    ('Mumbai', 39.87, 2020),\n",
    "    ('Mumbai', 38.72, 2021),\n",
    "    ('Mumbai', 31.20, 2022),\n",
    "    ('Mumbai', 34.23, 2023),\n",
    "    ('Mumbai', 32.59, 2024),\n",
    "    ('Delhi', 37.41, 2020),\n",
    "    ('Delhi', 27.36, 2021),\n",
    "    ('Delhi', 27.12, 2022),\n",
    "    ('Delhi', 26.03, 2023),\n",
    "    ('Delhi', 35.90, 2024),\n",
    "    ('Bangalore', 37.03, 2020),\n",
    "    ('Bangalore', 37.88, 2021),\n",
    "    ('Bangalore', 34.29, 2022),\n",
    "    ('Bangalore', 30.75, 2023),\n",
    "    ('Bangalore', 36.14, 2024),\n",
    "    ('Chennai', 32.60, 2020),\n",
    "    ('Chennai', 35.53, 2021),\n",
    "    ('Chennai', 39.04, 2022),\n",
    "    ('Chennai', 25.43, 2023),\n",
    "    ('Chennai', 29.32, 2024),\n",
    "    ('Kolkata', 39.54, 2020),\n",
    "    ('Kolkata', 35.75, 2021),\n",
    "    ('Kolkata', 29.09, 2022),\n",
    "    ('Kolkata', 33.65, 2023),\n",
    "    ('Kolkata', 34.42, 2024)\n",
    "], dtype=[('city', 'U10'), ('temperature', float), ('year', int)])\n",
    "\n",
    "# Loading weather data stored in a NumPy array\n",
    "\n",
    "print(f\"Loaded Weather_data array:\\n\\n{weather_data}\")"
   ]
  },
  {
   "cell_type": "code",
   "execution_count": 11,
   "id": "54796f5d",
   "metadata": {},
   "outputs": [
    {
     "name": "stdout",
     "output_type": "stream",
     "text": [
      "Mean temperatures for each city:\n",
      "Bangalore: 35.22 Celsius\n",
      "Chennai: 32.38 Celsius\n",
      "Delhi: 30.76 Celsius\n",
      "Kolkata: 34.49 Celsius\n",
      "Mumbai: 35.32 Celsius\n"
     ]
    }
   ],
   "source": [
    "# mean temperature for each city across all years\n",
    "\n",
    "cities = np.unique(weather_data['city'])\n",
    "mean_temperatures = []\n",
    "for city in cities:\n",
    "    city_temperatures = weather_data[weather_data['city'] == city]['temperature']\n",
    "    mean_temp = np.mean(city_temperatures)\n",
    "    mean_temperatures.append((city, mean_temp))\n",
    "    \n",
    "print(\"Mean temperatures for each city:\")\n",
    "for city, mean_temp in mean_temperatures:\n",
    "    print(f\"{city}: {mean_temp:.2f} Celsius\")"
   ]
  },
  {
   "cell_type": "code",
   "execution_count": 12,
   "id": "1676d55b",
   "metadata": {},
   "outputs": [
    {
     "name": "stdout",
     "output_type": "stream",
     "text": [
      "City with highest average temperature: Mumbai (35.32 Celsius)\n"
     ]
    }
   ],
   "source": [
    "# City with highest average temperature\n",
    "\n",
    "mean_temperatures.sort(key=lambda x: x[1], reverse=True)\n",
    "highest_avg_city = mean_temperatures[0][0]\n",
    "highest_avg_temp = mean_temperatures[0][1]\n",
    "\n",
    "print(f\"City with highest average temperature: {highest_avg_city} ({highest_avg_temp:.2f} Celsius)\")"
   ]
  },
  {
   "cell_type": "code",
   "execution_count": 13,
   "id": "7c0bade9",
   "metadata": {},
   "outputs": [
    {
     "name": "stdout",
     "output_type": "stream",
     "text": [
      "\n",
      "City data for Mumbai with temperatures converted to Fahrenheit:\n",
      "[('Mumbai', 103.766, 2020) ('Mumbai', 101.696, 2021)\n",
      " ('Mumbai',  88.16 , 2022) ('Mumbai',  93.614, 2023)\n",
      " ('Mumbai',  90.662, 2024)]\n"
     ]
    }
   ],
   "source": [
    "# Creating new array with only that city's data\n",
    "\n",
    "city_data = weather_data[weather_data['city'] == highest_avg_city].copy()\n",
    "\n",
    "city_data['temperature'] = city_data['temperature'] * 9/5 + 32\n",
    "\n",
    "print(f\"\\nCity data for {highest_avg_city} with temperatures converted to Fahrenheit:\")\n",
    "print(city_data)"
   ]
  },
  {
   "cell_type": "markdown",
   "id": "503ae6ce",
   "metadata": {},
   "source": [
    "## Q3."
   ]
  },
  {
   "cell_type": "markdown",
   "id": "83fcbe36",
   "metadata": {},
   "source": [
    "You have been tasked with analyzing stock market data for a portfolio of companies. The data is stored in a CSV file with columns for company, date, open price, high price, low price, close price, and trading volume. Write a Python script using NumPy and Pandas to:"
   ]
  },
  {
   "cell_type": "markdown",
   "id": "325335b2",
   "metadata": {},
   "source": [
    "• Load the data into a Pandas DataFrame\n",
    "\n",
    "•\t Calculate the daily price range (high - low) for each company\n",
    "\n",
    "•\tFind the company with the highest average daily price range\n",
    "\n",
    "•\tCreate a new DataFrame containing only the data for the company with the highest average daily price range\n",
    "\n",
    "•\tCalculate the daily returns for this company and store them in a new column\n",
    "\n",
    "•\tPerform a rolling window analysis to calculate the 5-day and 20-day moving average of the daily returns\n",
    "\n",
    "•\tPlot the daily returns and the moving averages using Matplotlib"
   ]
  },
  {
   "cell_type": "code",
   "execution_count": 14,
   "id": "7f054a60",
   "metadata": {},
   "outputs": [],
   "source": [
    "import pandas as pd\n",
    "import matplotlib.pyplot as plt"
   ]
  },
  {
   "cell_type": "code",
   "execution_count": 15,
   "id": "9e3a8695",
   "metadata": {
    "scrolled": false
   },
   "outputs": [
    {
     "data": {
      "text/html": [
       "<div>\n",
       "<style scoped>\n",
       "    .dataframe tbody tr th:only-of-type {\n",
       "        vertical-align: middle;\n",
       "    }\n",
       "\n",
       "    .dataframe tbody tr th {\n",
       "        vertical-align: top;\n",
       "    }\n",
       "\n",
       "    .dataframe thead th {\n",
       "        text-align: right;\n",
       "    }\n",
       "</style>\n",
       "<table border=\"1\" class=\"dataframe\">\n",
       "  <thead>\n",
       "    <tr style=\"text-align: right;\">\n",
       "      <th></th>\n",
       "      <th>date</th>\n",
       "      <th>open</th>\n",
       "      <th>high</th>\n",
       "      <th>low</th>\n",
       "      <th>close</th>\n",
       "      <th>volume</th>\n",
       "      <th>Name</th>\n",
       "    </tr>\n",
       "  </thead>\n",
       "  <tbody>\n",
       "    <tr>\n",
       "      <th>0</th>\n",
       "      <td>2013-02-08</td>\n",
       "      <td>15.07</td>\n",
       "      <td>15.12</td>\n",
       "      <td>14.63</td>\n",
       "      <td>14.75</td>\n",
       "      <td>8407500</td>\n",
       "      <td>AAL</td>\n",
       "    </tr>\n",
       "    <tr>\n",
       "      <th>1</th>\n",
       "      <td>2013-02-11</td>\n",
       "      <td>14.89</td>\n",
       "      <td>15.01</td>\n",
       "      <td>14.26</td>\n",
       "      <td>14.46</td>\n",
       "      <td>8882000</td>\n",
       "      <td>AAL</td>\n",
       "    </tr>\n",
       "    <tr>\n",
       "      <th>2</th>\n",
       "      <td>2013-02-12</td>\n",
       "      <td>14.45</td>\n",
       "      <td>14.51</td>\n",
       "      <td>14.10</td>\n",
       "      <td>14.27</td>\n",
       "      <td>8126000</td>\n",
       "      <td>AAL</td>\n",
       "    </tr>\n",
       "    <tr>\n",
       "      <th>3</th>\n",
       "      <td>2013-02-13</td>\n",
       "      <td>14.30</td>\n",
       "      <td>14.94</td>\n",
       "      <td>14.25</td>\n",
       "      <td>14.66</td>\n",
       "      <td>10259500</td>\n",
       "      <td>AAL</td>\n",
       "    </tr>\n",
       "    <tr>\n",
       "      <th>4</th>\n",
       "      <td>2013-02-14</td>\n",
       "      <td>14.94</td>\n",
       "      <td>14.96</td>\n",
       "      <td>13.16</td>\n",
       "      <td>13.99</td>\n",
       "      <td>31879900</td>\n",
       "      <td>AAL</td>\n",
       "    </tr>\n",
       "  </tbody>\n",
       "</table>\n",
       "</div>"
      ],
      "text/plain": [
       "         date   open   high    low  close    volume Name\n",
       "0  2013-02-08  15.07  15.12  14.63  14.75   8407500  AAL\n",
       "1  2013-02-11  14.89  15.01  14.26  14.46   8882000  AAL\n",
       "2  2013-02-12  14.45  14.51  14.10  14.27   8126000  AAL\n",
       "3  2013-02-13  14.30  14.94  14.25  14.66  10259500  AAL\n",
       "4  2013-02-14  14.94  14.96  13.16  13.99  31879900  AAL"
      ]
     },
     "execution_count": 15,
     "metadata": {},
     "output_type": "execute_result"
    }
   ],
   "source": [
    "# Loading the data into a Pandas DataFrame\n",
    "\n",
    "dataf = pd.read_csv('D:\\\\Summer class\\\\Project\\\\Assignment 3\\\\Stock_data.csv', encoding='latin1')\n",
    "dataf.head()"
   ]
  },
  {
   "cell_type": "code",
   "execution_count": 16,
   "id": "83afdf91",
   "metadata": {},
   "outputs": [
    {
     "name": "stdout",
     "output_type": "stream",
     "text": [
      "\n",
      "DataFrame with daily price range (high - low) calculated:\n"
     ]
    },
    {
     "data": {
      "text/html": [
       "<div>\n",
       "<style scoped>\n",
       "    .dataframe tbody tr th:only-of-type {\n",
       "        vertical-align: middle;\n",
       "    }\n",
       "\n",
       "    .dataframe tbody tr th {\n",
       "        vertical-align: top;\n",
       "    }\n",
       "\n",
       "    .dataframe thead th {\n",
       "        text-align: right;\n",
       "    }\n",
       "</style>\n",
       "<table border=\"1\" class=\"dataframe\">\n",
       "  <thead>\n",
       "    <tr style=\"text-align: right;\">\n",
       "      <th></th>\n",
       "      <th>Name</th>\n",
       "      <th>daily_price_range</th>\n",
       "    </tr>\n",
       "  </thead>\n",
       "  <tbody>\n",
       "    <tr>\n",
       "      <th>0</th>\n",
       "      <td>AAL</td>\n",
       "      <td>0.49</td>\n",
       "    </tr>\n",
       "    <tr>\n",
       "      <th>1</th>\n",
       "      <td>AAL</td>\n",
       "      <td>0.75</td>\n",
       "    </tr>\n",
       "    <tr>\n",
       "      <th>2</th>\n",
       "      <td>AAL</td>\n",
       "      <td>0.41</td>\n",
       "    </tr>\n",
       "    <tr>\n",
       "      <th>3</th>\n",
       "      <td>AAL</td>\n",
       "      <td>0.69</td>\n",
       "    </tr>\n",
       "    <tr>\n",
       "      <th>4</th>\n",
       "      <td>AAL</td>\n",
       "      <td>1.80</td>\n",
       "    </tr>\n",
       "    <tr>\n",
       "      <th>...</th>\n",
       "      <td>...</td>\n",
       "      <td>...</td>\n",
       "    </tr>\n",
       "    <tr>\n",
       "      <th>619035</th>\n",
       "      <td>ZTS</td>\n",
       "      <td>1.58</td>\n",
       "    </tr>\n",
       "    <tr>\n",
       "      <th>619036</th>\n",
       "      <td>ZTS</td>\n",
       "      <td>1.39</td>\n",
       "    </tr>\n",
       "    <tr>\n",
       "      <th>619037</th>\n",
       "      <td>ZTS</td>\n",
       "      <td>3.74</td>\n",
       "    </tr>\n",
       "    <tr>\n",
       "      <th>619038</th>\n",
       "      <td>ZTS</td>\n",
       "      <td>2.43</td>\n",
       "    </tr>\n",
       "    <tr>\n",
       "      <th>619039</th>\n",
       "      <td>ZTS</td>\n",
       "      <td>2.31</td>\n",
       "    </tr>\n",
       "  </tbody>\n",
       "</table>\n",
       "<p>619040 rows × 2 columns</p>\n",
       "</div>"
      ],
      "text/plain": [
       "       Name  daily_price_range\n",
       "0       AAL               0.49\n",
       "1       AAL               0.75\n",
       "2       AAL               0.41\n",
       "3       AAL               0.69\n",
       "4       AAL               1.80\n",
       "...     ...                ...\n",
       "619035  ZTS               1.58\n",
       "619036  ZTS               1.39\n",
       "619037  ZTS               3.74\n",
       "619038  ZTS               2.43\n",
       "619039  ZTS               2.31\n",
       "\n",
       "[619040 rows x 2 columns]"
      ]
     },
     "execution_count": 16,
     "metadata": {},
     "output_type": "execute_result"
    }
   ],
   "source": [
    "# Calculating the daily price range (high - low) for each company\n",
    "\n",
    "dataf['daily_price_range'] = dataf['high'] - dataf['low']\n",
    "print(\"\\nDataFrame with daily price range (high - low) calculated:\")\n",
    "dataf1 = dataf[['Name', 'daily_price_range']]\n",
    "dataf1"
   ]
  },
  {
   "cell_type": "code",
   "execution_count": 17,
   "id": "86d7b6c5",
   "metadata": {},
   "outputs": [
    {
     "name": "stdout",
     "output_type": "stream",
     "text": [
      "Company with highest average daily price range: PCLN\n",
      "Highest average daily price range value: 23.53\n"
     ]
    }
   ],
   "source": [
    "# Company with the highest average daily price range\n",
    "\n",
    "avg_daily_price_range = dataf.groupby('Name')['daily_price_range'].mean()\n",
    "\n",
    "company_highest_avg_range = avg_daily_price_range.idxmax()\n",
    "highest_avg_range_value = avg_daily_price_range.max()\n",
    "\n",
    "print(f\"Company with highest average daily price range: {company_highest_avg_range}\")\n",
    "print(f\"Highest average daily price range value: {highest_avg_range_value:.2f}\")"
   ]
  },
  {
   "cell_type": "code",
   "execution_count": 18,
   "id": "fd3b1469",
   "metadata": {},
   "outputs": [
    {
     "name": "stdout",
     "output_type": "stream",
     "text": [
      "Data for the company with highest average daily price range (PCLN):\n"
     ]
    },
    {
     "data": {
      "text/html": [
       "<div>\n",
       "<style scoped>\n",
       "    .dataframe tbody tr th:only-of-type {\n",
       "        vertical-align: middle;\n",
       "    }\n",
       "\n",
       "    .dataframe tbody tr th {\n",
       "        vertical-align: top;\n",
       "    }\n",
       "\n",
       "    .dataframe thead th {\n",
       "        text-align: right;\n",
       "    }\n",
       "</style>\n",
       "<table border=\"1\" class=\"dataframe\">\n",
       "  <thead>\n",
       "    <tr style=\"text-align: right;\">\n",
       "      <th></th>\n",
       "      <th>date</th>\n",
       "      <th>open</th>\n",
       "      <th>high</th>\n",
       "      <th>low</th>\n",
       "      <th>close</th>\n",
       "      <th>volume</th>\n",
       "      <th>Name</th>\n",
       "      <th>daily_price_range</th>\n",
       "    </tr>\n",
       "  </thead>\n",
       "  <tbody>\n",
       "    <tr>\n",
       "      <th>440061</th>\n",
       "      <td>2013-02-08</td>\n",
       "      <td>693.55</td>\n",
       "      <td>702.0400</td>\n",
       "      <td>691.4739</td>\n",
       "      <td>700.83</td>\n",
       "      <td>468310</td>\n",
       "      <td>PCLN</td>\n",
       "      <td>10.5661</td>\n",
       "    </tr>\n",
       "    <tr>\n",
       "      <th>440062</th>\n",
       "      <td>2013-02-11</td>\n",
       "      <td>699.68</td>\n",
       "      <td>699.9999</td>\n",
       "      <td>692.1600</td>\n",
       "      <td>696.11</td>\n",
       "      <td>301513</td>\n",
       "      <td>PCLN</td>\n",
       "      <td>7.8399</td>\n",
       "    </tr>\n",
       "    <tr>\n",
       "      <th>440063</th>\n",
       "      <td>2013-02-12</td>\n",
       "      <td>696.80</td>\n",
       "      <td>705.7700</td>\n",
       "      <td>695.3700</td>\n",
       "      <td>703.38</td>\n",
       "      <td>487096</td>\n",
       "      <td>PCLN</td>\n",
       "      <td>10.4000</td>\n",
       "    </tr>\n",
       "    <tr>\n",
       "      <th>440064</th>\n",
       "      <td>2013-02-13</td>\n",
       "      <td>703.00</td>\n",
       "      <td>708.0000</td>\n",
       "      <td>698.9000</td>\n",
       "      <td>704.17</td>\n",
       "      <td>333729</td>\n",
       "      <td>PCLN</td>\n",
       "      <td>9.1000</td>\n",
       "    </tr>\n",
       "    <tr>\n",
       "      <th>440065</th>\n",
       "      <td>2013-02-14</td>\n",
       "      <td>699.95</td>\n",
       "      <td>707.9900</td>\n",
       "      <td>697.6560</td>\n",
       "      <td>705.62</td>\n",
       "      <td>345682</td>\n",
       "      <td>PCLN</td>\n",
       "      <td>10.3340</td>\n",
       "    </tr>\n",
       "    <tr>\n",
       "      <th>...</th>\n",
       "      <td>...</td>\n",
       "      <td>...</td>\n",
       "      <td>...</td>\n",
       "      <td>...</td>\n",
       "      <td>...</td>\n",
       "      <td>...</td>\n",
       "      <td>...</td>\n",
       "      <td>...</td>\n",
       "    </tr>\n",
       "    <tr>\n",
       "      <th>441315</th>\n",
       "      <td>2018-02-01</td>\n",
       "      <td>1903.99</td>\n",
       "      <td>1928.8400</td>\n",
       "      <td>1893.3900</td>\n",
       "      <td>1903.69</td>\n",
       "      <td>360015</td>\n",
       "      <td>PCLN</td>\n",
       "      <td>35.4500</td>\n",
       "    </tr>\n",
       "    <tr>\n",
       "      <th>441316</th>\n",
       "      <td>2018-02-02</td>\n",
       "      <td>1890.13</td>\n",
       "      <td>1900.0000</td>\n",
       "      <td>1856.5700</td>\n",
       "      <td>1859.10</td>\n",
       "      <td>513771</td>\n",
       "      <td>PCLN</td>\n",
       "      <td>43.4300</td>\n",
       "    </tr>\n",
       "    <tr>\n",
       "      <th>441317</th>\n",
       "      <td>2018-02-05</td>\n",
       "      <td>1841.30</td>\n",
       "      <td>1872.6100</td>\n",
       "      <td>1816.5000</td>\n",
       "      <td>1825.93</td>\n",
       "      <td>548191</td>\n",
       "      <td>PCLN</td>\n",
       "      <td>56.1100</td>\n",
       "    </tr>\n",
       "    <tr>\n",
       "      <th>441318</th>\n",
       "      <td>2018-02-06</td>\n",
       "      <td>1800.01</td>\n",
       "      <td>1864.0000</td>\n",
       "      <td>1800.0100</td>\n",
       "      <td>1858.66</td>\n",
       "      <td>564479</td>\n",
       "      <td>PCLN</td>\n",
       "      <td>63.9900</td>\n",
       "    </tr>\n",
       "    <tr>\n",
       "      <th>441319</th>\n",
       "      <td>2018-02-07</td>\n",
       "      <td>1847.39</td>\n",
       "      <td>1900.3700</td>\n",
       "      <td>1836.6800</td>\n",
       "      <td>1882.68</td>\n",
       "      <td>491231</td>\n",
       "      <td>PCLN</td>\n",
       "      <td>63.6900</td>\n",
       "    </tr>\n",
       "  </tbody>\n",
       "</table>\n",
       "<p>1259 rows × 8 columns</p>\n",
       "</div>"
      ],
      "text/plain": [
       "              date     open       high        low    close  volume  Name  \\\n",
       "440061  2013-02-08   693.55   702.0400   691.4739   700.83  468310  PCLN   \n",
       "440062  2013-02-11   699.68   699.9999   692.1600   696.11  301513  PCLN   \n",
       "440063  2013-02-12   696.80   705.7700   695.3700   703.38  487096  PCLN   \n",
       "440064  2013-02-13   703.00   708.0000   698.9000   704.17  333729  PCLN   \n",
       "440065  2013-02-14   699.95   707.9900   697.6560   705.62  345682  PCLN   \n",
       "...            ...      ...        ...        ...      ...     ...   ...   \n",
       "441315  2018-02-01  1903.99  1928.8400  1893.3900  1903.69  360015  PCLN   \n",
       "441316  2018-02-02  1890.13  1900.0000  1856.5700  1859.10  513771  PCLN   \n",
       "441317  2018-02-05  1841.30  1872.6100  1816.5000  1825.93  548191  PCLN   \n",
       "441318  2018-02-06  1800.01  1864.0000  1800.0100  1858.66  564479  PCLN   \n",
       "441319  2018-02-07  1847.39  1900.3700  1836.6800  1882.68  491231  PCLN   \n",
       "\n",
       "        daily_price_range  \n",
       "440061            10.5661  \n",
       "440062             7.8399  \n",
       "440063            10.4000  \n",
       "440064             9.1000  \n",
       "440065            10.3340  \n",
       "...                   ...  \n",
       "441315            35.4500  \n",
       "441316            43.4300  \n",
       "441317            56.1100  \n",
       "441318            63.9900  \n",
       "441319            63.6900  \n",
       "\n",
       "[1259 rows x 8 columns]"
      ]
     },
     "execution_count": 18,
     "metadata": {},
     "output_type": "execute_result"
    }
   ],
   "source": [
    "# Creating a new DataFrame containing only the data for the company with the highest average daily price range\n",
    "\n",
    "new_df = dataf[dataf['Name'] == company_highest_avg_range]\n",
    "\n",
    "print(f\"Data for the company with highest average daily price range ({company_highest_avg_range}):\")\n",
    "new_df"
   ]
  },
  {
   "cell_type": "code",
   "execution_count": 19,
   "id": "b2335939",
   "metadata": {},
   "outputs": [
    {
     "name": "stdout",
     "output_type": "stream",
     "text": [
      "              date  Name    close     open  daily_return\n",
      "440061  2013-02-08  PCLN   700.83   693.55          7.28\n",
      "440062  2013-02-11  PCLN   696.11   699.68         -3.57\n",
      "440063  2013-02-12  PCLN   703.38   696.80          6.58\n",
      "440064  2013-02-13  PCLN   704.17   703.00          1.17\n",
      "440065  2013-02-14  PCLN   705.62   699.95          5.67\n",
      "...            ...   ...      ...      ...           ...\n",
      "441315  2018-02-01  PCLN  1903.69  1903.99         -0.30\n",
      "441316  2018-02-02  PCLN  1859.10  1890.13        -31.03\n",
      "441317  2018-02-05  PCLN  1825.93  1841.30        -15.37\n",
      "441318  2018-02-06  PCLN  1858.66  1800.01         58.65\n",
      "441319  2018-02-07  PCLN  1882.68  1847.39         35.29\n",
      "\n",
      "[1259 rows x 5 columns]\n"
     ]
    }
   ],
   "source": [
    "# Calculating the daily returns for this company and storing them in a new column\n",
    "\n",
    "new_df = dataf[dataf['Name'] == company_highest_avg_range].copy()\n",
    "\n",
    "new_df['daily_return'] = new_df['close'] - new_df['open']\n",
    "\n",
    "print(new_df[['date', 'Name', 'close', 'open', 'daily_return']])"
   ]
  },
  {
   "cell_type": "code",
   "execution_count": 20,
   "id": "fd38bf70",
   "metadata": {},
   "outputs": [
    {
     "name": "stdout",
     "output_type": "stream",
     "text": [
      "              date  daily_return  5_day_ma  20_day_ma\n",
      "440061  2013-02-08          7.28       NaN        NaN\n",
      "440062  2013-02-11         -3.57       NaN        NaN\n",
      "440063  2013-02-12          6.58       NaN        NaN\n",
      "440064  2013-02-13          1.17       NaN        NaN\n",
      "440065  2013-02-14          5.67     3.426        NaN\n",
      "...            ...           ...       ...        ...\n",
      "441315  2018-02-01         -0.30    -5.160    -0.3145\n",
      "441316  2018-02-02        -31.03    -9.264    -0.3015\n",
      "441317  2018-02-05        -15.37    -9.650    -1.2380\n",
      "441318  2018-02-06         58.65    -0.802     0.4785\n",
      "441319  2018-02-07         35.29     9.448     2.1385\n",
      "\n",
      "[1259 rows x 4 columns]\n"
     ]
    }
   ],
   "source": [
    "# Perform a rolling window analysis to calculate the 5-day and 20-day moving average of the daily returns\n",
    "\n",
    "new_df.loc[:,'5_day_ma'] = new_df['daily_return'].rolling(window=5).mean()\n",
    "new_df.loc[:,'20_day_ma'] = new_df['daily_return'].rolling(window=20).mean()\n",
    "\n",
    "print(new_df[['date', 'daily_return', '5_day_ma', '20_day_ma']])"
   ]
  },
  {
   "cell_type": "code",
   "execution_count": 21,
   "id": "c54843e7",
   "metadata": {},
   "outputs": [
    {
     "data": {
      "image/png": "[encoded data removed]",
      "text/plain": [
       "<Figure size 640x480 with 1 Axes>"
      ]
     },
     "metadata": {},
     "output_type": "display_data"
    }
   ],
   "source": [
    "# Plotting daily returns\n",
    "\n",
    "plt.plot(new_df['date'], new_df['daily_return'], label='Daily Return', color='blue')\n",
    "\n",
    "\n",
    "plt.xlabel('Date')\n",
    "plt.ylabel('Daily Return')\n",
    "plt.title('Daily Returns for Company with Highest Average Daily Price Range')\n",
    "\n",
    "plt.legend()\n",
    "\n",
    "plt.tight_layout()\n",
    "plt.show()"
   ]
  },
  {
   "cell_type": "code",
   "execution_count": 22,
   "id": "0dc6c707",
   "metadata": {},
   "outputs": [
    {
     "data": {
      "text/plain": [
       "<function matplotlib.pyplot.show(close=None, block=None)>"
      ]
     },
     "execution_count": 22,
     "metadata": {},
     "output_type": "execute_result"
    },
    {
     "data": {
      "image/png": "[encoded data removed]",
      "text/plain": [
       "<Figure size 640x480 with 1 Axes>"
      ]
     },
     "metadata": {},
     "output_type": "display_data"
    }
   ],
   "source": [
    "# Plotting 5-day moving average\n",
    "plt.plot(new_df['date'], new_df['5_day_ma'], label='5-Day Moving Avg', color='green')\n",
    "\n",
    "plt.xlabel('Date')\n",
    "plt.ylabel('5-Day Moving Average')\n",
    "plt.title('5-Day Moving Average for Company with Moving Average Daily Price Range')\n",
    "\n",
    "plt.legend()\n",
    "\n",
    "plt.show"
   ]
  },
  {
   "cell_type": "code",
   "execution_count": 23,
   "id": "bdc31be2",
   "metadata": {},
   "outputs": [
    {
     "data": {
      "text/plain": [
       "<function matplotlib.pyplot.show(close=None, block=None)>"
      ]
     },
     "execution_count": 23,
     "metadata": {},
     "output_type": "execute_result"
    },
    {
     "data": {
      "image/png": "[encoded data removed]",
      "text/plain": [
       "<Figure size 640x480 with 1 Axes>"
      ]
     },
     "metadata": {},
     "output_type": "display_data"
    }
   ],
   "source": [
    "# Plotting 20-day moving average\n",
    "plt.plot(new_df['date'], new_df['20_day_ma'], label='20-Day Moving Avg', color='red')\n",
    "\n",
    "plt.xlabel('Date')\n",
    "plt.ylabel('20-Day Moving Average')\n",
    "plt.title('20-Day Moving Average for Company with Moving Average Daily Price Range')\n",
    "\n",
    "plt.legend()\n",
    "\n",
    "plt.show"
   ]
  },
  {
   "cell_type": "markdown",
   "id": "6fbea999",
   "metadata": {},
   "source": [
    "### Thankyou"
   ]
  }
 ],
 "metadata": {
  "kernelspec": {
   "display_name": "Python 3 (ipykernel)",
   "language": "python",
   "name": "python3"
  },
  "language_info": {
   "codemirror_mode": {
    "name": "ipython",
    "version": 3
   },
   "file_extension": ".py",
   "mimetype": "text/x-python",
   "name": "python",
   "nbconvert_exporter": "python",
   "pygments_lexer": "ipython3",
   "version": "3.11.5"
  }
 },
 "nbformat": 4,
 "nbformat_minor": 5
}
