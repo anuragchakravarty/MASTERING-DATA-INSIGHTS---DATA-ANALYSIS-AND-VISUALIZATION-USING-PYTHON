{
 "cells": [
  {
   "cell_type": "markdown",
   "id": "d92ff386",
   "metadata": {},
   "source": [
    "# Anurag Chakravarty\n",
    "## Reg. No. :- 12219329\n",
    "## MASTERING DATA INSIGHTS - DATA ANALYSIS AND VISUALIZATION USING PYTHON.\n",
    "## Lovely Professional University\n",
    "### CA-2"
   ]
  },
  {
   "cell_type": "markdown",
   "id": "f8ca76d3",
   "metadata": {},
   "source": [
    "## Q1."
   ]
  },
  {
   "cell_type": "markdown",
   "id": "d80b5880",
   "metadata": {},
   "source": [
    "In a 50 over match, for the first N overs Indian cricket team scored with a run rate of R that is R runs per over. Display the run rate with which Indian team should score a run in the remaining overs so that the final score of the team reaches to S.\n",
    "Values of N, R, and S should be entered by the user. Display the output upto two decimal places. "
   ]
  },
  {
   "cell_type": "code",
   "execution_count": 1,
   "id": "c37193f3",
   "metadata": {},
   "outputs": [],
   "source": [
    "import pandas as pd"
   ]
  },
  {
   "cell_type": "code",
   "execution_count": 2,
   "id": "9d57dd37",
   "metadata": {},
   "outputs": [],
   "source": [
    "def calculate_runrate(N, R, S):\n",
    "    current_score = N * R\n",
    "    \n",
    "    Remaining_over = 50 - N\n",
    "    \n",
    "    Required_runs = S - current_score\n",
    "    \n",
    "    if 0 < Remaining_over <= 50:\n",
    "        Run_rate_req = (Required_runs/Remaining_over)\n",
    "        return Run_rate_req\n",
    "    else:\n",
    "        print(\"Match ended!\")"
   ]
  },
  {
   "cell_type": "code",
   "execution_count": 3,
   "id": "230f2a63",
   "metadata": {},
   "outputs": [
    {
     "name": "stdout",
     "output_type": "stream",
     "text": [
      "Enter the number of inputs: 3\n",
      "\n",
      "Enter the number of overs completed for input 1: 20\n",
      "Enter the run rate for the first N overs for input 1: 4\n",
      "Enter the target score for input 1: 300\n",
      "\n",
      "Enter the number of overs completed for input 2: 25\n",
      "Enter the run rate for the first N overs for input 2: 3\n",
      "Enter the target score for input 2: 300\n",
      "\n",
      "Enter the number of overs completed for input 3: 30\n",
      "Enter the run rate for the first N overs for input 3: 6\n",
      "Enter the target score for input 3: 300\n"
     ]
    }
   ],
   "source": [
    "def calculate_runrates(input):\n",
    "    results = []\n",
    "    for input_data in inputs:\n",
    "        N, R, S = input_data\n",
    "        Run_rate_req = calculate_runrate(N, R, S)\n",
    "        results.append(Run_rate_req)\n",
    "    \n",
    "    return results\n",
    "\n",
    "num_inputs = int(input(\"Enter the number of inputs: \"))\n",
    "inputs = []\n",
    "for i in range(num_inputs):\n",
    "    N = int(input(f\"\\nEnter the number of overs completed for input {i+1}: \"))\n",
    "    R = int(input(f\"Enter the run rate for the first N overs for input {i+1}: \"))\n",
    "    S = int(input(f\"Enter the target score for input {i+1}: \"))\n",
    "    inputs.append((N, R, S))\n",
    "\n",
    "results = calculate_runrates(inputs)\n",
    "df = pd.DataFrame(inputs, columns=['N', 'R', 'S'])\n",
    "df['Run Rate for remaining over'] = results"
   ]
  },
  {
   "cell_type": "code",
   "execution_count": 4,
   "id": "6aba61d5",
   "metadata": {},
   "outputs": [
    {
     "name": "stdout",
     "output_type": "stream",
     "text": [
      "=========================================\n",
      "     Inputs               Outputs\n",
      "=========================================\n",
      " N  R   S Run Rate for remaining over\n",
      "20  4 300                        7.33\n",
      "25  3 300                        9.00\n",
      "30  6 300                        6.00\n"
     ]
    }
   ],
   "source": [
    "print(\"=\" * 41)\n",
    "print(\"     Inputs               Outputs\")\n",
    "print(\"=\" * 41)\n",
    "df['Run Rate for remaining over'] = df['Run Rate for remaining over'].apply(lambda x: f\"{x:.2f}\")\n",
    "print(df.to_string(index=False))"
   ]
  },
  {
   "cell_type": "markdown",
   "id": "1ff2da39",
   "metadata": {},
   "source": [
    "## Q2. "
   ]
  },
  {
   "cell_type": "markdown",
   "id": "5a305964",
   "metadata": {},
   "source": [
    "If a single taxi can carry 'A' number of passengers, then display the number of taxis that will be required to carry 'N' number of passengers. Also display the distribution of the passengers in the taxis.\n",
    "Values of A, and N should be entered by the user. Assume N will always be greater than A."
   ]
  },
  {
   "cell_type": "code",
   "execution_count": 5,
   "id": "014440d2",
   "metadata": {},
   "outputs": [],
   "source": [
    "import pandas as pd"
   ]
  },
  {
   "cell_type": "code",
   "execution_count": 6,
   "id": "abcb0bce",
   "metadata": {},
   "outputs": [],
   "source": [
    "def no_of_taxi(A, N, T):\n",
    "    req_taxis = N // A\n",
    "    rem_passenger = N % A\n",
    "    rem_taxis = T - req_taxis\n",
    "    if rem_passenger > 0:\n",
    "        rem_taxis -= 1  \n",
    "\n",
    "    pass_ = A * req_taxis\n",
    "    \n",
    "    distribution = f\"{pass_} passengers in {req_taxis} taxis, and {rem_passenger} passengers in {1 if rem_passenger > 0 else 0} taxi\"\n",
    "    \n",
    "    df1 = pd.DataFrame({'A': [A], 'N': [N], 'Number of Taxis': [T], 'Distribution of passenger': [distribution]})\n",
    "    \n",
    "    return df1"
   ]
  },
  {
   "cell_type": "code",
   "execution_count": 7,
   "id": "a8a4fbfe",
   "metadata": {},
   "outputs": [],
   "source": [
    "def Input():\n",
    "    num_inputs = int(input(\"Enter the number of inputs: \"))\n",
    "    inputs = []\n",
    "    for i in range(num_inputs):\n",
    "        A = int(input(\"\\nEnter the number of passengers a single taxi can carry : \"))\n",
    "        N = int(input(\"Enter the total number of passengers : \"))\n",
    "        T = int(input(\"Enter the total number of taxis available : \"))\n",
    "        \n",
    "        df2 = no_of_taxi(A, N, T)\n",
    "        inputs.append(df2)   \n",
    "    \n",
    "    print(\"=\" * 78)\n",
    "    print(\"         Inputs                                   Outputs\")\n",
    "    print(\"=\" * 78)\n",
    "    \n",
    "    for df3 in inputs:\n",
    "        print(df3.to_string(index=False, header=True))"
   ]
  },
  {
   "cell_type": "code",
   "execution_count": 8,
   "id": "f0dfe246",
   "metadata": {},
   "outputs": [
    {
     "name": "stdout",
     "output_type": "stream",
     "text": [
      "Enter the number of inputs: 2\n",
      "\n",
      "Enter the number of passengers a single taxi can carry : 4\n",
      "Enter the total number of passengers : 41\n",
      "Enter the total number of taxis available : 11\n",
      "\n",
      "Enter the number of passengers a single taxi can carry : 6\n",
      "Enter the total number of passengers : 60\n",
      "Enter the total number of taxis available : 10\n",
      "==============================================================================\n",
      "         Inputs                                   Outputs\n",
      "==============================================================================\n",
      " A  N  Number of Taxis                             Distribution of passenger\n",
      " 4 41               11 40 passengers in 10 taxis, and 1 passengers in 1 taxi\n",
      " A  N  Number of Taxis                             Distribution of passenger\n",
      " 6 60               10 60 passengers in 10 taxis, and 0 passengers in 0 taxi\n"
     ]
    }
   ],
   "source": [
    "Input()"
   ]
  },
  {
   "cell_type": "markdown",
   "id": "d3c77653",
   "metadata": {},
   "source": [
    "## Q3. "
   ]
  },
  {
   "cell_type": "markdown",
   "id": "a478e2a1",
   "metadata": {},
   "source": [
    "You are supposed to develop a simulation for a 2D game that involves characters moving around on a grid. Each character has a position represented by a Vector object with x and y coordinates. You need to implement movement and interaction features for these characters using operator overloading."
   ]
  },
  {
   "cell_type": "markdown",
   "id": "592d8ffc",
   "metadata": {},
   "source": [
    "### Requirements:"
   ]
  },
  {
   "cell_type": "markdown",
   "id": "aa6f4c77",
   "metadata": {},
   "source": [
    "1. Implement a Vector class to represent the position of characters.\n",
    "2. Overload the + operator to move a character by adding another vector to its position.\n",
    "3. Overload the - operator to calculate the distance between two characters.\n",
    "4. Overload the * operator to scale a character's movement by a scalar.\n",
    "5. Overload the == operator to check if two characters are at the same position.\n",
    "6. Overload the \\__str__ method to provide a string representation of a character's position."
   ]
  },
  {
   "cell_type": "code",
   "execution_count": 9,
   "id": "f639de3d",
   "metadata": {},
   "outputs": [],
   "source": [
    "import numpy as np\n",
    "import pandas as pd"
   ]
  },
  {
   "cell_type": "code",
   "execution_count": 10,
   "id": "a302bff4",
   "metadata": {},
   "outputs": [],
   "source": [
    "class Vector:\n",
    "    def __init__(self, x=0, y=0):\n",
    "        self.position = np.array([x, y])\n",
    "    \n",
    "    def __add__(self, other):\n",
    "        if isinstance(other, Vector):\n",
    "            return Vector(*(self.position + other.position))\n",
    "        return NotImplemented\n",
    "\n",
    "    def __sub__(self, other):\n",
    "        if isinstance(other, Vector):\n",
    "            return np.linalg.norm(self.position - other.position)\n",
    "        return NotImplemented\n",
    "\n",
    "    def __mul__(self, scalar):\n",
    "        if isinstance(scalar, (int, float)):\n",
    "            return Vector(*(self.position * scalar))\n",
    "        return NotImplemented\n",
    "\n",
    "    def __eq__(self, other):\n",
    "        if isinstance(other, Vector):\n",
    "            return np.array_equal(self.position, other.position)\n",
    "        return NotImplemented\n",
    "\n",
    "    def __str__(self):\n",
    "        return f\"({self.position[0]}, {self.position[1]})\""
   ]
  },
  {
   "cell_type": "code",
   "execution_count": 11,
   "id": "c705312b",
   "metadata": {},
   "outputs": [
    {
     "name": "stdout",
     "output_type": "stream",
     "text": [
      "Initial position of v1 = (2, 3)\n",
      "Initial position of v2 = (4, 5)\n",
      "\n",
      "Position after moving : (6, 8)\n",
      "Distance between two characters : 2.83\n",
      "Scaling a character's movement by a scalar : (4, 6)\n",
      "The two charaters v1 & v5 are at same position and their position is (2, 3)\n"
     ]
    }
   ],
   "source": [
    "v1 = Vector(2, 3)\n",
    "v2 = Vector(4, 5)\n",
    "\n",
    "print(f\"Initial position of v1 = {v1}\")\n",
    "print(f\"Initial position of v2 = {v2}\\n\")\n",
    "\n",
    "v3 = v1 + v2\n",
    "print(f\"Position after moving : {v3}\")  \n",
    "\n",
    "distance = v1 - v2\n",
    "print(f\"Distance between two characters : {distance:.2f}\")  \n",
    "\n",
    "v4 = v1 * 2\n",
    "print(f\"Scaling a character's movement by a scalar : {v4}\")  \n",
    "\n",
    "v5 = Vector(2, 3)\n",
    "if v1==v5:\n",
    "    print(f\"The two charaters v1 & v5 are at same position and their position is {v5}\")  \n",
    "else:\n",
    "    print(f\"The two charaters v1 & v5 are not at same position\")\n",
    "\n",
    "positions = [v1, v2, v3, v4, v5]"
   ]
  },
  {
   "cell_type": "code",
   "execution_count": 12,
   "id": "9d163a58",
   "metadata": {},
   "outputs": [
    {
     "name": "stdout",
     "output_type": "stream",
     "text": [
      "  Character Position\n",
      "0        v1   (2, 3)\n",
      "1        v2   (4, 5)\n",
      "2        v3   (6, 8)\n",
      "3        v4   (4, 6)\n",
      "4        v5   (2, 3)\n"
     ]
    }
   ],
   "source": [
    "df4 = pd.DataFrame({\n",
    "    'Character': [f'v{i+1}' for i in range(len(positions))],\n",
    "    'Position': [str(pos) for pos in positions]\n",
    "})\n",
    "print(df4)"
   ]
  },
  {
   "cell_type": "markdown",
   "id": "ae885a48",
   "metadata": {},
   "source": [
    "# Thankyou"
   ]
  }
 ],
 "metadata": {
  "kernelspec": {
   "display_name": "Python 3 (ipykernel)",
   "language": "python",
   "name": "python3"
  },
  "language_info": {
   "codemirror_mode": {
    "name": "ipython",
    "version": 3
   },
   "file_extension": ".py",
   "mimetype": "text/x-python",
   "name": "python",
   "nbconvert_exporter": "python",
   "pygments_lexer": "ipython3",
   "version": "3.11.5"
  }
 },
 "nbformat": 4,
 "nbformat_minor": 5
}
